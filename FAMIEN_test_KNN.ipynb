{
 "cells": [
  {
   "cell_type": "markdown",
   "id": "49307498",
   "metadata": {},
   "source": [
    "### Etape 1 : Importation packages"
   ]
  },
  {
   "cell_type": "code",
   "execution_count": 1,
   "id": "4de7fdec",
   "metadata": {},
   "outputs": [],
   "source": [
    "# Import packages\n",
    "\n",
    "import math\n",
    "from pathlib import Path\n",
    "import pandas as pd\n",
    "import numpy as np\n",
    "import json\n",
    "import matplotlib.pyplot as plt\n",
    "\n",
    "from tensorflow.keras import Model\n",
    "from tensorflow.keras.layers import Conv2D, Dense, Dropout, Flatten, MaxPooling2D \n",
    "from tensorflow.keras.optimizers import Adam\n",
    "from sklearn.model_selection import train_test_split\n",
    "from sklearn.model_selection import cross_val_score\n"
   ]
  },
  {
   "cell_type": "markdown",
   "id": "d2eb482d",
   "metadata": {},
   "source": [
    "### Etape 2 : récupérer les données"
   ]
  },
  {
   "cell_type": "code",
   "execution_count": 2,
   "id": "83dab8ec",
   "metadata": {},
   "outputs": [
    {
     "data": {
      "text/html": [
       "<div>\n",
       "<style scoped>\n",
       "    .dataframe tbody tr th:only-of-type {\n",
       "        vertical-align: middle;\n",
       "    }\n",
       "\n",
       "    .dataframe tbody tr th {\n",
       "        vertical-align: top;\n",
       "    }\n",
       "\n",
       "    .dataframe thead th {\n",
       "        text-align: right;\n",
       "    }\n",
       "</style>\n",
       "<table border=\"1\" class=\"dataframe\">\n",
       "  <thead>\n",
       "    <tr style=\"text-align: right;\">\n",
       "      <th></th>\n",
       "      <th>data</th>\n",
       "      <th>labels</th>\n",
       "      <th>locations</th>\n",
       "      <th>scene_ids</th>\n",
       "    </tr>\n",
       "  </thead>\n",
       "  <tbody>\n",
       "    <tr>\n",
       "      <th>0</th>\n",
       "      <td>[82, 89, 91, 87, 89, 87, 86, 86, 86, 86, 84, 8...</td>\n",
       "      <td>1</td>\n",
       "      <td>[-118.2254694333423, 33.73803725920789]</td>\n",
       "      <td>20180708_180909_0f47</td>\n",
       "    </tr>\n",
       "    <tr>\n",
       "      <th>1</th>\n",
       "      <td>[76, 75, 67, 62, 68, 72, 73, 73, 68, 69, 69, 6...</td>\n",
       "      <td>1</td>\n",
       "      <td>[-122.33222866289329, 37.7491755586813]</td>\n",
       "      <td>20170705_180816_103e</td>\n",
       "    </tr>\n",
       "    <tr>\n",
       "      <th>2</th>\n",
       "      <td>[125, 127, 129, 130, 126, 125, 129, 133, 132, ...</td>\n",
       "      <td>1</td>\n",
       "      <td>[-118.14283073363218, 33.736016066914175]</td>\n",
       "      <td>20180712_211331_0f06</td>\n",
       "    </tr>\n",
       "    <tr>\n",
       "      <th>3</th>\n",
       "      <td>[102, 99, 113, 106, 96, 102, 105, 105, 103, 10...</td>\n",
       "      <td>1</td>\n",
       "      <td>[-122.34784341495181, 37.76648707436548]</td>\n",
       "      <td>20170609_180756_103a</td>\n",
       "    </tr>\n",
       "    <tr>\n",
       "      <th>4</th>\n",
       "      <td>[78, 76, 74, 78, 79, 79, 79, 82, 86, 85, 83, 8...</td>\n",
       "      <td>1</td>\n",
       "      <td>[-122.34852408322172, 37.75878462398653]</td>\n",
       "      <td>20170515_180653_1007</td>\n",
       "    </tr>\n",
       "  </tbody>\n",
       "</table>\n",
       "</div>"
      ],
      "text/plain": [
       "                                                data  labels  \\\n",
       "0  [82, 89, 91, 87, 89, 87, 86, 86, 86, 86, 84, 8...       1   \n",
       "1  [76, 75, 67, 62, 68, 72, 73, 73, 68, 69, 69, 6...       1   \n",
       "2  [125, 127, 129, 130, 126, 125, 129, 133, 132, ...       1   \n",
       "3  [102, 99, 113, 106, 96, 102, 105, 105, 103, 10...       1   \n",
       "4  [78, 76, 74, 78, 79, 79, 79, 82, 86, 85, 83, 8...       1   \n",
       "\n",
       "                                   locations             scene_ids  \n",
       "0    [-118.2254694333423, 33.73803725920789]  20180708_180909_0f47  \n",
       "1    [-122.33222866289329, 37.7491755586813]  20170705_180816_103e  \n",
       "2  [-118.14283073363218, 33.736016066914175]  20180712_211331_0f06  \n",
       "3   [-122.34784341495181, 37.76648707436548]  20170609_180756_103a  \n",
       "4   [-122.34852408322172, 37.75878462398653]  20170515_180653_1007  "
      ]
     },
     "execution_count": 2,
     "metadata": {},
     "output_type": "execute_result"
    }
   ],
   "source": [
    "with open(\"C:\\\\Users\\\\Uriel\\\\Desktop\\\\TP Thèse Doctoral ML\\\\4- KNN\\\\shipsnet.json\") as data_file :\n",
    "    dataset = json.load(data_file)\n",
    "ships = pd.DataFrame(dataset)\n",
    "ships.head()"
   ]
  },
  {
   "cell_type": "markdown",
   "id": "ab36d0e4",
   "metadata": {},
   "source": [
    "On va extraire \"data et labels\" pour la suite de notre étude"
   ]
  },
  {
   "cell_type": "code",
   "execution_count": 3,
   "id": "4287cb4d",
   "metadata": {},
   "outputs": [
    {
     "data": {
      "text/html": [
       "<div>\n",
       "<style scoped>\n",
       "    .dataframe tbody tr th:only-of-type {\n",
       "        vertical-align: middle;\n",
       "    }\n",
       "\n",
       "    .dataframe tbody tr th {\n",
       "        vertical-align: top;\n",
       "    }\n",
       "\n",
       "    .dataframe thead th {\n",
       "        text-align: right;\n",
       "    }\n",
       "</style>\n",
       "<table border=\"1\" class=\"dataframe\">\n",
       "  <thead>\n",
       "    <tr style=\"text-align: right;\">\n",
       "      <th></th>\n",
       "      <th>data</th>\n",
       "      <th>labels</th>\n",
       "    </tr>\n",
       "  </thead>\n",
       "  <tbody>\n",
       "    <tr>\n",
       "      <th>0</th>\n",
       "      <td>[82, 89, 91, 87, 89, 87, 86, 86, 86, 86, 84, 8...</td>\n",
       "      <td>1</td>\n",
       "    </tr>\n",
       "    <tr>\n",
       "      <th>1</th>\n",
       "      <td>[76, 75, 67, 62, 68, 72, 73, 73, 68, 69, 69, 6...</td>\n",
       "      <td>1</td>\n",
       "    </tr>\n",
       "    <tr>\n",
       "      <th>2</th>\n",
       "      <td>[125, 127, 129, 130, 126, 125, 129, 133, 132, ...</td>\n",
       "      <td>1</td>\n",
       "    </tr>\n",
       "    <tr>\n",
       "      <th>3</th>\n",
       "      <td>[102, 99, 113, 106, 96, 102, 105, 105, 103, 10...</td>\n",
       "      <td>1</td>\n",
       "    </tr>\n",
       "    <tr>\n",
       "      <th>4</th>\n",
       "      <td>[78, 76, 74, 78, 79, 79, 79, 82, 86, 85, 83, 8...</td>\n",
       "      <td>1</td>\n",
       "    </tr>\n",
       "  </tbody>\n",
       "</table>\n",
       "</div>"
      ],
      "text/plain": [
       "                                                data  labels\n",
       "0  [82, 89, 91, 87, 89, 87, 86, 86, 86, 86, 84, 8...       1\n",
       "1  [76, 75, 67, 62, 68, 72, 73, 73, 68, 69, 69, 6...       1\n",
       "2  [125, 127, 129, 130, 126, 125, 129, 133, 132, ...       1\n",
       "3  [102, 99, 113, 106, 96, 102, 105, 105, 103, 10...       1\n",
       "4  [78, 76, 74, 78, 79, 79, 79, 82, 86, 85, 83, 8...       1"
      ]
     },
     "execution_count": 3,
     "metadata": {},
     "output_type": "execute_result"
    }
   ],
   "source": [
    "ships = ships[[\"data\",\"labels\"]]\n",
    "ships.head()"
   ]
  },
  {
   "cell_type": "markdown",
   "id": "98ddcee7",
   "metadata": {},
   "source": [
    "### Etape 3 : Analyser les données"
   ]
  },
  {
   "cell_type": "code",
   "execution_count": 4,
   "id": "7de7478a",
   "metadata": {},
   "outputs": [
    {
     "name": "stdout",
     "output_type": "stream",
     "text": [
      "<class 'pandas.core.frame.DataFrame'>\n",
      "RangeIndex: 4000 entries, 0 to 3999\n",
      "Data columns (total 2 columns):\n",
      " #   Column  Non-Null Count  Dtype \n",
      "---  ------  --------------  ----- \n",
      " 0   data    4000 non-null   object\n",
      " 1   labels  4000 non-null   int64 \n",
      "dtypes: int64(1), object(1)\n",
      "memory usage: 62.6+ KB\n"
     ]
    }
   ],
   "source": [
    "ships.info()"
   ]
  },
  {
   "cell_type": "markdown",
   "id": "2f9257c7",
   "metadata": {},
   "source": [
    "On va vérifier si la base de donnée est équilibré ou non"
   ]
  },
  {
   "cell_type": "code",
   "execution_count": 5,
   "id": "b6ef6a02",
   "metadata": {},
   "outputs": [
    {
     "data": {
      "text/plain": [
       "<AxesSubplot:xlabel='labels', ylabel='count'>"
      ]
     },
     "execution_count": 5,
     "metadata": {},
     "output_type": "execute_result"
    },
    {
     "data": {
      "image/png": "[encoded data removed]",
      "text/plain": [
       "<Figure size 640x480 with 1 Axes>"
      ]
     },
     "metadata": {},
     "output_type": "display_data"
    }
   ],
   "source": [
    "import seaborn as sns\n",
    "sns.countplot(x=\"labels\",data=ships)"
   ]
  },
  {
   "cell_type": "markdown",
   "id": "930f4be2",
   "metadata": {},
   "source": [
    "### Etape 4 : Preparer les données en formation et en test\n",
    "On va transformer les informations json en tableau numpy et ensuite les assigner comme variables x et y"
   ]
  },
  {
   "cell_type": "code",
   "execution_count": 6,
   "id": "5a8c52be",
   "metadata": {},
   "outputs": [
    {
     "data": {
      "text/plain": [
       "Index(['data', 'labels'], dtype='object')"
      ]
     },
     "execution_count": 6,
     "metadata": {},
     "output_type": "execute_result"
    }
   ],
   "source": [
    "ships.columns"
   ]
  },
  {
   "cell_type": "code",
   "execution_count": 7,
   "id": "87c1e282",
   "metadata": {},
   "outputs": [],
   "source": [
    "import numpy as np\n",
    "X = np.array(dataset[\"data\"]).astype(\"uint8\")\n",
    "y = np.array(dataset[\"labels\"]).astype(\"uint8\")"
   ]
  },
  {
   "cell_type": "code",
   "execution_count": 8,
   "id": "f5429acf",
   "metadata": {},
   "outputs": [],
   "source": [
    "#X = ships[[\"data\"]]\n",
    "#y = ships[\"labels\"]"
   ]
  },
  {
   "cell_type": "code",
   "execution_count": null,
   "id": "00d9d8db",
   "metadata": {},
   "outputs": [],
   "source": []
  },
  {
   "cell_type": "code",
   "execution_count": 9,
   "id": "a2a223f4",
   "metadata": {
    "scrolled": true
   },
   "outputs": [
    {
     "data": {
      "text/plain": [
       "array([[ 82,  89,  91, ...,  86,  88,  89],\n",
       "       [ 76,  75,  67, ...,  54,  57,  58],\n",
       "       [125, 127, 129, ..., 111, 109, 115],\n",
       "       ...,\n",
       "       [171, 135, 118, ...,  95,  95,  85],\n",
       "       [ 85,  90,  94, ...,  96,  95,  89],\n",
       "       [122, 122, 126, ...,  51,  46,  69]], dtype=uint8)"
      ]
     },
     "execution_count": 9,
     "metadata": {},
     "output_type": "execute_result"
    }
   ],
   "source": [
    "X"
   ]
  },
  {
   "cell_type": "code",
   "execution_count": 10,
   "id": "5754b54c",
   "metadata": {},
   "outputs": [
    {
     "data": {
      "text/plain": [
       "array([1, 1, 1, ..., 0, 0, 0], dtype=uint8)"
      ]
     },
     "execution_count": 10,
     "metadata": {},
     "output_type": "execute_result"
    }
   ],
   "source": [
    "y"
   ]
  },
  {
   "cell_type": "markdown",
   "id": "ac2c82a8",
   "metadata": {},
   "source": [
    "On va separer la base de donnée en sous-base pour l'entrainement et pour l'evaluation en utilisant la commande \"train_test_split\".\n",
    "test_size(60% pour l'entrainnement et 20% pour l'évaluation)"
   ]
  },
  {
   "cell_type": "code",
   "execution_count": 11,
   "id": "72caa3d2",
   "metadata": {},
   "outputs": [],
   "source": [
    "from sklearn.model_selection import train_test_split"
   ]
  },
  {
   "cell_type": "code",
   "execution_count": 12,
   "id": "a15b6f0c",
   "metadata": {},
   "outputs": [],
   "source": [
    "X_train, X_test, y_train, y_test = train_test_split(X, y, test_size = 0.2, random_state = 42)"
   ]
  },
  {
   "cell_type": "code",
   "execution_count": 13,
   "id": "a7a9c1a4",
   "metadata": {},
   "outputs": [
    {
     "data": {
      "text/plain": [
       "array([[123, 126, 119, ..., 120, 122, 127],\n",
       "       [105, 103, 103, ...,  76,  77,  86],\n",
       "       [113, 108, 108, ...,  98,  97,  97],\n",
       "       ...,\n",
       "       [ 39,  39,  36, ...,  36,  36,  37],\n",
       "       [ 43,  44,  55, ...,  59,  64,  69],\n",
       "       [111, 113, 108, ...,  98,  99,  97]], dtype=uint8)"
      ]
     },
     "execution_count": 13,
     "metadata": {},
     "output_type": "execute_result"
    }
   ],
   "source": [
    "X_train"
   ]
  },
  {
   "cell_type": "code",
   "execution_count": 14,
   "id": "b597264b",
   "metadata": {},
   "outputs": [
    {
     "data": {
      "text/plain": [
       "array([0, 1, 0, ..., 1, 0, 0], dtype=uint8)"
      ]
     },
     "execution_count": 14,
     "metadata": {},
     "output_type": "execute_result"
    }
   ],
   "source": [
    "y_train"
   ]
  },
  {
   "cell_type": "markdown",
   "id": "80a7ee4d",
   "metadata": {},
   "source": [
    "**Normalisation ou mise à l'échelle des fonctionnalités**:\n",
    "- Si la plage de valeurs des données brutes varie considérablement, nous devions normaliser les caractéristiques pour qu\"elles soient à la même échelle.\n",
    "**Remise à l'échelle des données de test en utilisant la moyenne et l'ecart type de l'ensemble de test**\n",
    "- Dans le classificateur **KNN**, l'échelle des variables est importante. Toutes les variables à grande échelle auront un effet beaucoup plus important sur la distance entre les observations, et donc sur le classificateur KNN, que les variables à petite échelle.\n",
    "\n",
    "**Redimensionner les fonctionnalité à l'aide de la classe \"StandarScaler\"**"
   ]
  },
  {
   "cell_type": "code",
   "execution_count": 15,
   "id": "cb7f8eef",
   "metadata": {},
   "outputs": [],
   "source": [
    "from sklearn.preprocessing import StandardScaler\n",
    "\n",
    "# On instancie notre modèle pour la standartisation\n",
    "scaler = StandardScaler()"
   ]
  },
  {
   "cell_type": "code",
   "execution_count": 16,
   "id": "d1d62d2a",
   "metadata": {},
   "outputs": [
    {
     "data": {
      "text/plain": [
       "StandardScaler()"
      ]
     },
     "execution_count": 16,
     "metadata": {},
     "output_type": "execute_result"
    }
   ],
   "source": [
    "# Et on faire scaler.fit(X_train) sur la base de donnée d'entrainement car on entraine sur la base de donnée d'entrainement  \n",
    "# puis évaluée avec la base de donnée X_test\n",
    "\n",
    "scaler.fit(X_train)"
   ]
  },
  {
   "cell_type": "code",
   "execution_count": 17,
   "id": "bf867005",
   "metadata": {},
   "outputs": [
    {
     "name": "stdout",
     "output_type": "stream",
     "text": [
      "[97.770625  97.7021875 97.859375  ... 90.699375  90.5703125 90.5140625]\n",
      "[1807.10426211 1801.60474521 1812.00147461 ... 1245.97712461 1242.30255615\n",
      " 1228.78667725]\n"
     ]
    }
   ],
   "source": [
    "print(scaler.mean_)\n",
    "print(scaler.var_)"
   ]
  },
  {
   "cell_type": "code",
   "execution_count": 18,
   "id": "f86ca9fa",
   "metadata": {},
   "outputs": [],
   "source": [
    "# Ensuite on va transformer la base de donnée X_train et X_test à partir de la base de donnée scaler.fit(X_train)\n",
    "# Modification de X_train et X_test dans notre base de donnée et les assignés dans X_train_norm et X_test_norm\n",
    "\n",
    "X_train_norm = scaler.transform(X_train)\n",
    "X_test_norm = scaler.transform(X_test)"
   ]
  },
  {
   "cell_type": "code",
   "execution_count": 19,
   "id": "3b117314",
   "metadata": {},
   "outputs": [
    {
     "data": {
      "text/plain": [
       "array([[ 0.59349202,  0.66668872,  0.4966364 , ...,  0.83008363,\n",
       "         0.89171562,  1.04084788],\n",
       "       [ 0.17006273,  0.12481501,  0.12076377, ..., -0.41643175,\n",
       "        -0.38501368, -0.12877434],\n",
       "       [ 0.35825353,  0.24261364,  0.23822397, ...,  0.20682594,\n",
       "         0.18242156,  0.18502675],\n",
       "       ...,\n",
       "       [-1.38251135, -1.38300747, -1.4532029 , ..., -1.54962755,\n",
       "        -1.54825593, -1.52661552],\n",
       "       [-1.28841595, -1.26520884, -1.00685414, ..., -0.89803997,\n",
       "        -0.75384659, -0.61373965],\n",
       "       [ 0.31120583,  0.36041228,  0.23822397, ...,  0.20682594,\n",
       "         0.23916509,  0.18502675]])"
      ]
     },
     "execution_count": 19,
     "metadata": {},
     "output_type": "execute_result"
    }
   ],
   "source": [
    "X_train_norm"
   ]
  },
  {
   "cell_type": "markdown",
   "id": "941b806c",
   "metadata": {},
   "source": [
    "**Mettez X_train et y_train en mise à l'échelle dans un format de trame de données à l'aide de pd.DataFrame**"
   ]
  },
  {
   "cell_type": "code",
   "execution_count": null,
   "id": "08c2df61",
   "metadata": {},
   "outputs": [],
   "source": []
  },
  {
   "cell_type": "code",
   "execution_count": 20,
   "id": "bbb30f4d",
   "metadata": {},
   "outputs": [],
   "source": [
    "# Création d'un nouveau DataFrame(X_train_norm pour les données d'entrainement et X_test_norm pour l'evaluation)\n",
    "\n",
    "X_train_scaler = pd.DataFrame(data = X_train_norm)\n",
    "X_test_scaler = pd.DataFrame(data = X_test_norm)"
   ]
  },
  {
   "cell_type": "code",
   "execution_count": 21,
   "id": "5a345130",
   "metadata": {},
   "outputs": [
    {
     "data": {
      "text/html": [
       "<div>\n",
       "<style scoped>\n",
       "    .dataframe tbody tr th:only-of-type {\n",
       "        vertical-align: middle;\n",
       "    }\n",
       "\n",
       "    .dataframe tbody tr th {\n",
       "        vertical-align: top;\n",
       "    }\n",
       "\n",
       "    .dataframe thead th {\n",
       "        text-align: right;\n",
       "    }\n",
       "</style>\n",
       "<table border=\"1\" class=\"dataframe\">\n",
       "  <thead>\n",
       "    <tr style=\"text-align: right;\">\n",
       "      <th></th>\n",
       "      <th>0</th>\n",
       "      <th>1</th>\n",
       "      <th>2</th>\n",
       "      <th>3</th>\n",
       "      <th>4</th>\n",
       "      <th>5</th>\n",
       "      <th>6</th>\n",
       "      <th>7</th>\n",
       "      <th>8</th>\n",
       "      <th>9</th>\n",
       "      <th>...</th>\n",
       "      <th>19190</th>\n",
       "      <th>19191</th>\n",
       "      <th>19192</th>\n",
       "      <th>19193</th>\n",
       "      <th>19194</th>\n",
       "      <th>19195</th>\n",
       "      <th>19196</th>\n",
       "      <th>19197</th>\n",
       "      <th>19198</th>\n",
       "      <th>19199</th>\n",
       "    </tr>\n",
       "  </thead>\n",
       "  <tbody>\n",
       "    <tr>\n",
       "      <th>0</th>\n",
       "      <td>0.593492</td>\n",
       "      <td>0.666689</td>\n",
       "      <td>0.496636</td>\n",
       "      <td>0.584525</td>\n",
       "      <td>0.669746</td>\n",
       "      <td>0.612035</td>\n",
       "      <td>0.587801</td>\n",
       "      <td>0.473221</td>\n",
       "      <td>0.385445</td>\n",
       "      <td>0.362806</td>\n",
       "      <td>...</td>\n",
       "      <td>0.850661</td>\n",
       "      <td>1.086981</td>\n",
       "      <td>0.947408</td>\n",
       "      <td>0.766424</td>\n",
       "      <td>0.775201</td>\n",
       "      <td>0.969044</td>\n",
       "      <td>0.879523</td>\n",
       "      <td>0.830084</td>\n",
       "      <td>0.891716</td>\n",
       "      <td>1.040848</td>\n",
       "    </tr>\n",
       "    <tr>\n",
       "      <th>1</th>\n",
       "      <td>0.170063</td>\n",
       "      <td>0.124815</td>\n",
       "      <td>0.120764</td>\n",
       "      <td>0.115009</td>\n",
       "      <td>0.155747</td>\n",
       "      <td>0.103234</td>\n",
       "      <td>-0.012011</td>\n",
       "      <td>0.054910</td>\n",
       "      <td>0.152363</td>\n",
       "      <td>0.177601</td>\n",
       "      <td>...</td>\n",
       "      <td>-0.448328</td>\n",
       "      <td>-0.676358</td>\n",
       "      <td>-1.010570</td>\n",
       "      <td>-0.415775</td>\n",
       "      <td>-0.162693</td>\n",
       "      <td>-0.275042</td>\n",
       "      <td>-0.276956</td>\n",
       "      <td>-0.416432</td>\n",
       "      <td>-0.385014</td>\n",
       "      <td>-0.128774</td>\n",
       "    </tr>\n",
       "    <tr>\n",
       "      <th>2</th>\n",
       "      <td>0.358254</td>\n",
       "      <td>0.242614</td>\n",
       "      <td>0.238224</td>\n",
       "      <td>0.349767</td>\n",
       "      <td>0.272565</td>\n",
       "      <td>0.288253</td>\n",
       "      <td>0.380174</td>\n",
       "      <td>0.264066</td>\n",
       "      <td>0.222287</td>\n",
       "      <td>0.247053</td>\n",
       "      <td>...</td>\n",
       "      <td>0.342361</td>\n",
       "      <td>0.359254</td>\n",
       "      <td>0.248130</td>\n",
       "      <td>0.400505</td>\n",
       "      <td>0.263623</td>\n",
       "      <td>0.177353</td>\n",
       "      <td>0.146146</td>\n",
       "      <td>0.206826</td>\n",
       "      <td>0.182422</td>\n",
       "      <td>0.185027</td>\n",
       "    </tr>\n",
       "    <tr>\n",
       "      <th>3</th>\n",
       "      <td>0.005396</td>\n",
       "      <td>0.030576</td>\n",
       "      <td>-0.795426</td>\n",
       "      <td>-0.471885</td>\n",
       "      <td>0.786564</td>\n",
       "      <td>1.120835</td>\n",
       "      <td>0.887707</td>\n",
       "      <td>0.798573</td>\n",
       "      <td>1.271157</td>\n",
       "      <td>1.566637</td>\n",
       "      <td>...</td>\n",
       "      <td>2.432040</td>\n",
       "      <td>3.662016</td>\n",
       "      <td>3.800462</td>\n",
       "      <td>3.947104</td>\n",
       "      <td>3.986778</td>\n",
       "      <td>3.768236</td>\n",
       "      <td>3.728410</td>\n",
       "      <td>2.841506</td>\n",
       "      <td>1.969843</td>\n",
       "      <td>1.468758</td>\n",
       "    </tr>\n",
       "    <tr>\n",
       "      <th>4</th>\n",
       "      <td>0.852254</td>\n",
       "      <td>0.878726</td>\n",
       "      <td>0.872509</td>\n",
       "      <td>0.842759</td>\n",
       "      <td>0.786564</td>\n",
       "      <td>0.750798</td>\n",
       "      <td>0.749289</td>\n",
       "      <td>0.798573</td>\n",
       "      <td>0.828301</td>\n",
       "      <td>0.825818</td>\n",
       "      <td>...</td>\n",
       "      <td>0.822423</td>\n",
       "      <td>0.751107</td>\n",
       "      <td>0.779581</td>\n",
       "      <td>0.822719</td>\n",
       "      <td>0.746780</td>\n",
       "      <td>0.855945</td>\n",
       "      <td>0.851316</td>\n",
       "      <td>0.858414</td>\n",
       "      <td>0.891716</td>\n",
       "      <td>0.926738</td>\n",
       "    </tr>\n",
       "  </tbody>\n",
       "</table>\n",
       "<p>5 rows × 19200 columns</p>\n",
       "</div>"
      ],
      "text/plain": [
       "      0         1         2         3         4         5         6      \\\n",
       "0  0.593492  0.666689  0.496636  0.584525  0.669746  0.612035  0.587801   \n",
       "1  0.170063  0.124815  0.120764  0.115009  0.155747  0.103234 -0.012011   \n",
       "2  0.358254  0.242614  0.238224  0.349767  0.272565  0.288253  0.380174   \n",
       "3  0.005396  0.030576 -0.795426 -0.471885  0.786564  1.120835  0.887707   \n",
       "4  0.852254  0.878726  0.872509  0.842759  0.786564  0.750798  0.749289   \n",
       "\n",
       "      7         8         9      ...     19190     19191     19192     19193  \\\n",
       "0  0.473221  0.385445  0.362806  ...  0.850661  1.086981  0.947408  0.766424   \n",
       "1  0.054910  0.152363  0.177601  ... -0.448328 -0.676358 -1.010570 -0.415775   \n",
       "2  0.264066  0.222287  0.247053  ...  0.342361  0.359254  0.248130  0.400505   \n",
       "3  0.798573  1.271157  1.566637  ...  2.432040  3.662016  3.800462  3.947104   \n",
       "4  0.798573  0.828301  0.825818  ...  0.822423  0.751107  0.779581  0.822719   \n",
       "\n",
       "      19194     19195     19196     19197     19198     19199  \n",
       "0  0.775201  0.969044  0.879523  0.830084  0.891716  1.040848  \n",
       "1 -0.162693 -0.275042 -0.276956 -0.416432 -0.385014 -0.128774  \n",
       "2  0.263623  0.177353  0.146146  0.206826  0.182422  0.185027  \n",
       "3  3.986778  3.768236  3.728410  2.841506  1.969843  1.468758  \n",
       "4  0.746780  0.855945  0.851316  0.858414  0.891716  0.926738  \n",
       "\n",
       "[5 rows x 19200 columns]"
      ]
     },
     "execution_count": 21,
     "metadata": {},
     "output_type": "execute_result"
    }
   ],
   "source": [
    "X_train_scaler.head()"
   ]
  },
  {
   "cell_type": "markdown",
   "id": "0d80b51c",
   "metadata": {},
   "source": [
    "**Visualisation des effets de la normalisation sur les données à l'aide de \"displot\" de seaborn**"
   ]
  },
  {
   "cell_type": "code",
   "execution_count": 22,
   "id": "559c88b5",
   "metadata": {},
   "outputs": [],
   "source": [
    "#sns.displot(X_train_scaler, color =\"green\")\n",
    "#sns.displot(X_train, color =\"red\")"
   ]
  },
  {
   "cell_type": "code",
   "execution_count": 23,
   "id": "d49b78cb",
   "metadata": {},
   "outputs": [
    {
     "data": {
      "text/html": [
       "<div>\n",
       "<style scoped>\n",
       "    .dataframe tbody tr th:only-of-type {\n",
       "        vertical-align: middle;\n",
       "    }\n",
       "\n",
       "    .dataframe tbody tr th {\n",
       "        vertical-align: top;\n",
       "    }\n",
       "\n",
       "    .dataframe thead th {\n",
       "        text-align: right;\n",
       "    }\n",
       "</style>\n",
       "<table border=\"1\" class=\"dataframe\">\n",
       "  <thead>\n",
       "    <tr style=\"text-align: right;\">\n",
       "      <th></th>\n",
       "      <th>0</th>\n",
       "      <th>1</th>\n",
       "      <th>2</th>\n",
       "      <th>3</th>\n",
       "      <th>4</th>\n",
       "      <th>5</th>\n",
       "      <th>6</th>\n",
       "      <th>7</th>\n",
       "      <th>8</th>\n",
       "      <th>9</th>\n",
       "      <th>...</th>\n",
       "      <th>19190</th>\n",
       "      <th>19191</th>\n",
       "      <th>19192</th>\n",
       "      <th>19193</th>\n",
       "      <th>19194</th>\n",
       "      <th>19195</th>\n",
       "      <th>19196</th>\n",
       "      <th>19197</th>\n",
       "      <th>19198</th>\n",
       "      <th>19199</th>\n",
       "    </tr>\n",
       "  </thead>\n",
       "  <tbody>\n",
       "    <tr>\n",
       "      <th>count</th>\n",
       "      <td>3200.00</td>\n",
       "      <td>3200.00</td>\n",
       "      <td>3200.00</td>\n",
       "      <td>3200.00</td>\n",
       "      <td>3200.00</td>\n",
       "      <td>3200.00</td>\n",
       "      <td>3200.00</td>\n",
       "      <td>3200.00</td>\n",
       "      <td>3200.00</td>\n",
       "      <td>3200.00</td>\n",
       "      <td>...</td>\n",
       "      <td>3200.00</td>\n",
       "      <td>3200.00</td>\n",
       "      <td>3200.00</td>\n",
       "      <td>3200.00</td>\n",
       "      <td>3200.00</td>\n",
       "      <td>3200.00</td>\n",
       "      <td>3200.00</td>\n",
       "      <td>3200.00</td>\n",
       "      <td>3200.00</td>\n",
       "      <td>3200.00</td>\n",
       "    </tr>\n",
       "    <tr>\n",
       "      <th>mean</th>\n",
       "      <td>0.00</td>\n",
       "      <td>0.00</td>\n",
       "      <td>0.00</td>\n",
       "      <td>-0.00</td>\n",
       "      <td>0.00</td>\n",
       "      <td>0.00</td>\n",
       "      <td>0.00</td>\n",
       "      <td>0.00</td>\n",
       "      <td>-0.00</td>\n",
       "      <td>-0.00</td>\n",
       "      <td>...</td>\n",
       "      <td>0.00</td>\n",
       "      <td>0.00</td>\n",
       "      <td>-0.00</td>\n",
       "      <td>0.00</td>\n",
       "      <td>0.00</td>\n",
       "      <td>-0.00</td>\n",
       "      <td>0.00</td>\n",
       "      <td>-0.00</td>\n",
       "      <td>0.00</td>\n",
       "      <td>0.00</td>\n",
       "    </tr>\n",
       "    <tr>\n",
       "      <th>std</th>\n",
       "      <td>1.00</td>\n",
       "      <td>1.00</td>\n",
       "      <td>1.00</td>\n",
       "      <td>1.00</td>\n",
       "      <td>1.00</td>\n",
       "      <td>1.00</td>\n",
       "      <td>1.00</td>\n",
       "      <td>1.00</td>\n",
       "      <td>1.00</td>\n",
       "      <td>1.00</td>\n",
       "      <td>...</td>\n",
       "      <td>1.00</td>\n",
       "      <td>1.00</td>\n",
       "      <td>1.00</td>\n",
       "      <td>1.00</td>\n",
       "      <td>1.00</td>\n",
       "      <td>1.00</td>\n",
       "      <td>1.00</td>\n",
       "      <td>1.00</td>\n",
       "      <td>1.00</td>\n",
       "      <td>1.00</td>\n",
       "    </tr>\n",
       "    <tr>\n",
       "      <th>min</th>\n",
       "      <td>-2.11</td>\n",
       "      <td>-2.14</td>\n",
       "      <td>-2.13</td>\n",
       "      <td>-2.21</td>\n",
       "      <td>-2.23</td>\n",
       "      <td>-2.16</td>\n",
       "      <td>-2.11</td>\n",
       "      <td>-2.13</td>\n",
       "      <td>-2.18</td>\n",
       "      <td>-2.18</td>\n",
       "      <td>...</td>\n",
       "      <td>-2.23</td>\n",
       "      <td>-2.22</td>\n",
       "      <td>-2.21</td>\n",
       "      <td>-2.25</td>\n",
       "      <td>-2.44</td>\n",
       "      <td>-2.31</td>\n",
       "      <td>-2.22</td>\n",
       "      <td>-2.14</td>\n",
       "      <td>-2.29</td>\n",
       "      <td>-2.35</td>\n",
       "    </tr>\n",
       "    <tr>\n",
       "      <th>25%</th>\n",
       "      <td>-0.68</td>\n",
       "      <td>-0.68</td>\n",
       "      <td>-0.68</td>\n",
       "      <td>-0.66</td>\n",
       "      <td>-0.69</td>\n",
       "      <td>-0.66</td>\n",
       "      <td>-0.66</td>\n",
       "      <td>-0.67</td>\n",
       "      <td>-0.66</td>\n",
       "      <td>-0.66</td>\n",
       "      <td>...</td>\n",
       "      <td>-0.70</td>\n",
       "      <td>-0.70</td>\n",
       "      <td>-0.70</td>\n",
       "      <td>-0.70</td>\n",
       "      <td>-0.70</td>\n",
       "      <td>-0.70</td>\n",
       "      <td>-0.70</td>\n",
       "      <td>-0.70</td>\n",
       "      <td>-0.70</td>\n",
       "      <td>-0.70</td>\n",
       "    </tr>\n",
       "    <tr>\n",
       "      <th>50%</th>\n",
       "      <td>-0.14</td>\n",
       "      <td>-0.13</td>\n",
       "      <td>-0.14</td>\n",
       "      <td>-0.14</td>\n",
       "      <td>-0.15</td>\n",
       "      <td>-0.15</td>\n",
       "      <td>-0.14</td>\n",
       "      <td>-0.13</td>\n",
       "      <td>-0.15</td>\n",
       "      <td>-0.15</td>\n",
       "      <td>...</td>\n",
       "      <td>-0.11</td>\n",
       "      <td>-0.09</td>\n",
       "      <td>-0.09</td>\n",
       "      <td>-0.11</td>\n",
       "      <td>-0.09</td>\n",
       "      <td>-0.11</td>\n",
       "      <td>-0.11</td>\n",
       "      <td>-0.09</td>\n",
       "      <td>-0.10</td>\n",
       "      <td>-0.10</td>\n",
       "    </tr>\n",
       "    <tr>\n",
       "      <th>75%</th>\n",
       "      <td>0.50</td>\n",
       "      <td>0.50</td>\n",
       "      <td>0.50</td>\n",
       "      <td>0.49</td>\n",
       "      <td>0.51</td>\n",
       "      <td>0.48</td>\n",
       "      <td>0.50</td>\n",
       "      <td>0.52</td>\n",
       "      <td>0.48</td>\n",
       "      <td>0.50</td>\n",
       "      <td>...</td>\n",
       "      <td>0.57</td>\n",
       "      <td>0.58</td>\n",
       "      <td>0.56</td>\n",
       "      <td>0.57</td>\n",
       "      <td>0.58</td>\n",
       "      <td>0.57</td>\n",
       "      <td>0.57</td>\n",
       "      <td>0.58</td>\n",
       "      <td>0.58</td>\n",
       "      <td>0.58</td>\n",
       "    </tr>\n",
       "    <tr>\n",
       "      <th>max</th>\n",
       "      <td>3.70</td>\n",
       "      <td>3.71</td>\n",
       "      <td>3.69</td>\n",
       "      <td>3.68</td>\n",
       "      <td>3.66</td>\n",
       "      <td>3.62</td>\n",
       "      <td>3.61</td>\n",
       "      <td>3.63</td>\n",
       "      <td>3.65</td>\n",
       "      <td>3.63</td>\n",
       "      <td>...</td>\n",
       "      <td>4.35</td>\n",
       "      <td>4.36</td>\n",
       "      <td>4.28</td>\n",
       "      <td>4.31</td>\n",
       "      <td>4.33</td>\n",
       "      <td>4.36</td>\n",
       "      <td>4.38</td>\n",
       "      <td>4.46</td>\n",
       "      <td>4.52</td>\n",
       "      <td>4.58</td>\n",
       "    </tr>\n",
       "  </tbody>\n",
       "</table>\n",
       "<p>8 rows × 19200 columns</p>\n",
       "</div>"
      ],
      "text/plain": [
       "         0        1        2        3        4        5        6        7      \\\n",
       "count  3200.00  3200.00  3200.00  3200.00  3200.00  3200.00  3200.00  3200.00   \n",
       "mean      0.00     0.00     0.00    -0.00     0.00     0.00     0.00     0.00   \n",
       "std       1.00     1.00     1.00     1.00     1.00     1.00     1.00     1.00   \n",
       "min      -2.11    -2.14    -2.13    -2.21    -2.23    -2.16    -2.11    -2.13   \n",
       "25%      -0.68    -0.68    -0.68    -0.66    -0.69    -0.66    -0.66    -0.67   \n",
       "50%      -0.14    -0.13    -0.14    -0.14    -0.15    -0.15    -0.14    -0.13   \n",
       "75%       0.50     0.50     0.50     0.49     0.51     0.48     0.50     0.52   \n",
       "max       3.70     3.71     3.69     3.68     3.66     3.62     3.61     3.63   \n",
       "\n",
       "         8        9      ...    19190    19191    19192    19193    19194  \\\n",
       "count  3200.00  3200.00  ...  3200.00  3200.00  3200.00  3200.00  3200.00   \n",
       "mean     -0.00    -0.00  ...     0.00     0.00    -0.00     0.00     0.00   \n",
       "std       1.00     1.00  ...     1.00     1.00     1.00     1.00     1.00   \n",
       "min      -2.18    -2.18  ...    -2.23    -2.22    -2.21    -2.25    -2.44   \n",
       "25%      -0.66    -0.66  ...    -0.70    -0.70    -0.70    -0.70    -0.70   \n",
       "50%      -0.15    -0.15  ...    -0.11    -0.09    -0.09    -0.11    -0.09   \n",
       "75%       0.48     0.50  ...     0.57     0.58     0.56     0.57     0.58   \n",
       "max       3.65     3.63  ...     4.35     4.36     4.28     4.31     4.33   \n",
       "\n",
       "         19195    19196    19197    19198    19199  \n",
       "count  3200.00  3200.00  3200.00  3200.00  3200.00  \n",
       "mean     -0.00     0.00    -0.00     0.00     0.00  \n",
       "std       1.00     1.00     1.00     1.00     1.00  \n",
       "min      -2.31    -2.22    -2.14    -2.29    -2.35  \n",
       "25%      -0.70    -0.70    -0.70    -0.70    -0.70  \n",
       "50%      -0.11    -0.11    -0.09    -0.10    -0.10  \n",
       "75%       0.57     0.57     0.58     0.58     0.58  \n",
       "max       4.36     4.38     4.46     4.52     4.58  \n",
       "\n",
       "[8 rows x 19200 columns]"
      ]
     },
     "execution_count": 23,
     "metadata": {},
     "output_type": "execute_result"
    }
   ],
   "source": [
    "X_train_scaler.describe().round(2)"
   ]
  },
  {
   "cell_type": "markdown",
   "id": "9e300602",
   "metadata": {},
   "source": [
    "### Etape 5 : Importer KNeighborsClassifier de scikit learn. Construire un modèle KNN pour la classification et entraîner le modèle. "
   ]
  },
  {
   "cell_type": "code",
   "execution_count": 24,
   "id": "5f3bdc21",
   "metadata": {},
   "outputs": [
    {
     "data": {
      "text/plain": [
       "KNeighborsClassifier(n_neighbors=3)"
      ]
     },
     "execution_count": 24,
     "metadata": {},
     "output_type": "execute_result"
    }
   ],
   "source": [
    "# Importation de KNeighborsClassifier de scikit learn\n",
    "from sklearn.neighbors import KNeighborsClassifier\n",
    "\n",
    "# Création de KNN et une instance nombre de voisins à 1 (n_neighbors = 1)\n",
    "KNN = KNeighborsClassifier(n_neighbors = 3)\n",
    "\n",
    "# Ajuster ce modèle KNN aux données d'entraînement(BD mise à l'échelle i.e X_train_scaler et labels correspondant: y_train)\n",
    "KNN.fit(X_train_scaler, y_train)"
   ]
  },
  {
   "cell_type": "markdown",
   "id": "b577f242",
   "metadata": {},
   "source": [
    "### Etape 6 : Prédiction et évaluation"
   ]
  },
  {
   "cell_type": "markdown",
   "id": "dc97aba5",
   "metadata": {},
   "source": [
    "Utilisez la méthode predict pour prédire des valeurs à l'aide de votre modèle KNN et de X_test."
   ]
  },
  {
   "cell_type": "code",
   "execution_count": 25,
   "id": "dcb969c7",
   "metadata": {},
   "outputs": [],
   "source": [
    "y_pred = KNN.predict(X_test_scaler)"
   ]
  },
  {
   "cell_type": "markdown",
   "id": "99e397f5",
   "metadata": {},
   "source": [
    "**Évaluation de l'algorithme**: \n",
    "- On va évalué l'algorithme s'il efficace en utilisant les différents metrics\n",
    "\n",
    "**Création de matrice de confusion et le rapport de classification**"
   ]
  },
  {
   "cell_type": "code",
   "execution_count": 26,
   "id": "da44feda",
   "metadata": {},
   "outputs": [
    {
     "name": "stdout",
     "output_type": "stream",
     "text": [
      "              precision    recall  f1-score   support\n",
      "\n",
      "           0       0.96      0.95      0.95       591\n",
      "           1       0.86      0.88      0.87       209\n",
      "\n",
      "    accuracy                           0.93       800\n",
      "   macro avg       0.91      0.91      0.91       800\n",
      "weighted avg       0.93      0.93      0.93       800\n",
      "\n",
      "[[560  31]\n",
      " [ 25 184]]\n"
     ]
    }
   ],
   "source": [
    "# On commence à importer les metrics de la librairie Scaler\n",
    "from sklearn import metrics\n",
    "\n",
    "# Affichage de rapport de classification et la matrice de confusion\n",
    "# A chaque fois pour les deux metrics, on va comparer leurs y_pred à la sortie avec leurs vraies valeurs i.e y_test\n",
    "print(metrics.classification_report(y_test, y_pred))\n",
    "print(metrics.confusion_matrix(y_test, y_pred))"
   ]
  },
  {
   "cell_type": "markdown",
   "id": "562e3d01",
   "metadata": {},
   "source": [
    "**Interpretation**:\n",
    "\n",
    "- **image avec navire (0)**: On constate que la 1ère classe de la matrice de confusion (560), tous n'a pas été predicte. on a une précision = 0.96, recall = 0.95, f1-score = 0.95 et le tout 591 cas.\n",
    "- **image avec navire (1)**: Pour la 2ème classes de la matrice de confusion, on a 184 cas correctement predicte avec (précision = 0.86, recall = 0.88, f1-score = 0.87) et 209 cas.\n",
    "\n",
    "**Accuracy de l'algorithme à 94 % pour 800 cas**"
   ]
  },
  {
   "cell_type": "code",
   "execution_count": 27,
   "id": "9d8bd6ec",
   "metadata": {},
   "outputs": [
    {
     "data": {
      "image/png": "[encoded data removed]",
      "text/plain": [
       "<Figure size 800x800 with 2 Axes>"
      ]
     },
     "metadata": {},
     "output_type": "display_data"
    }
   ],
   "source": [
    "from sklearn.metrics import confusion_matrix\n",
    "\n",
    "confusion_mtx = confusion_matrix(y_test, y_pred) \n",
    "# Plot the confusion matrix\n",
    "f,ax = plt.subplots(figsize=(8, 8))\n",
    "sns.heatmap(confusion_mtx, annot=True, linewidths=0.01,linecolor=\"gray\", fmt= '.1f',ax=ax)\n",
    "plt.xlabel(\"Predictions Label\")\n",
    "plt.ylabel(\"True Label\")\n",
    "plt.title(\"Confusion Matrix\")\n",
    "plt.tight_layout()\n",
    "\n",
    "plt.show()"
   ]
  },
  {
   "cell_type": "code",
   "execution_count": 28,
   "id": "dba29ce5",
   "metadata": {},
   "outputs": [],
   "source": [
    "#confusion_matx = metrics.confusion_matrix(y_test, y_pred)\n",
    "#cm_display = metrics.ConfusionMatrixDisplay(confusion_matrix = confusion_matx, display_labels = [\"navire (0)\",\"sans navire (1)\"])\n",
    "\n",
    "#cm_display.plot()\n",
    "#plt.show()"
   ]
  },
  {
   "cell_type": "code",
   "execution_count": 30,
   "id": "6edd312b",
   "metadata": {},
   "outputs": [],
   "source": [
    " #metrics.accuracy_score(y_test, y_pred)"
   ]
  },
  {
   "cell_type": "code",
   "execution_count": 31,
   "id": "a320fc81",
   "metadata": {},
   "outputs": [],
   "source": [
    "# On peut afficher la valeur de l'aire sur la courbe de la courbe ROC dans sklearn.metrics.\n",
    "# On va importer \"roc_auc_score\" et on va faire un \"KNN.predict_proba de notre test mise à échelle (X_test_scaler)\", placer ça dans y_score.\n",
    "# roc_auc_score dans laquelle on va comparer \"y_test avec y_score de la probabilité\"\n",
    "\n",
    "#from sklearn.metrics import roc_auc_score\n",
    "#y_score = KNN.predict_proba(X_test_scaler)\n",
    "#roc_auc_score(y_test, y_score.multi_class = \"ovr\")\n"
   ]
  },
  {
   "cell_type": "code",
   "execution_count": null,
   "id": "f1cd72bc",
   "metadata": {},
   "outputs": [],
   "source": []
  }
 ],
 "metadata": {
  "kernelspec": {
   "display_name": "Python 3 (ipykernel)",
   "language": "python",
   "name": "python3"
  },
  "language_info": {
   "codemirror_mode": {
    "name": "ipython",
    "version": 3
   },
   "file_extension": ".py",
   "mimetype": "text/x-python",
   "name": "python",
   "nbconvert_exporter": "python",
   "pygments_lexer": "ipython3",
   "version": "3.7.16"
  }
 },
 "nbformat": 4,
 "nbformat_minor": 5
}
